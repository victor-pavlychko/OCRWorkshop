{
 "cells": [
  {
   "cell_type": "code",
   "execution_count": 1,
   "metadata": {},
   "outputs": [
    {
     "ename": "ImportError",
     "evalue": "No module named PIL",
     "output_type": "error",
     "traceback": [
      "\u001b[0;31m---------------------------------------------------------------------------\u001b[0m",
      "\u001b[0;31mImportError\u001b[0m                               Traceback (most recent call last)",
      "\u001b[0;32m<ipython-input-1-d0cc5c52f95f>\u001b[0m in \u001b[0;36m<module>\u001b[0;34m()\u001b[0m\n\u001b[1;32m      1\u001b[0m \u001b[0;32mimport\u001b[0m \u001b[0mos\u001b[0m\u001b[0;34m\u001b[0m\u001b[0m\n\u001b[1;32m      2\u001b[0m \u001b[0;32mfrom\u001b[0m \u001b[0mglob\u001b[0m \u001b[0;32mimport\u001b[0m \u001b[0mglob\u001b[0m\u001b[0;34m\u001b[0m\u001b[0m\n\u001b[0;32m----> 3\u001b[0;31m \u001b[0;32mfrom\u001b[0m \u001b[0mPIL\u001b[0m \u001b[0;32mimport\u001b[0m \u001b[0mImage\u001b[0m\u001b[0;34m\u001b[0m\u001b[0m\n\u001b[0m\u001b[1;32m      4\u001b[0m \u001b[0;34m\u001b[0m\u001b[0m\n\u001b[1;32m      5\u001b[0m \u001b[0;32mimport\u001b[0m \u001b[0mnumpy\u001b[0m\u001b[0;34m\u001b[0m\u001b[0m\n",
      "\u001b[0;31mImportError\u001b[0m: No module named PIL"
     ]
    }
   ],
   "source": [
    "import os\n",
    "from glob import glob\n",
    "from PIL import Image\n",
    "\n",
    "import numpy\n",
    "import coremltools\n",
    "\n",
    "import keras\n",
    "from keras.models import *\n",
    "from keras.layers import *\n",
    "from keras.callbacks import *\n",
    "\n",
    "from sklearn.preprocessing import OneHotEncoder\n",
    "from sklearn.preprocessing import LabelEncoder\n",
    "from sklearn.preprocessing import LabelBinarizer\n",
    "from sklearn.model_selection import train_test_split"
   ]
  },
  {
   "cell_type": "code",
   "execution_count": null,
   "metadata": {},
   "outputs": [],
   "source": [
    "def create_model(image_shape, class_count):\n",
    "    model = Sequential()\n",
    "\n",
    "    model.add(Conv2D(32, (5, 5), input_shape=(image_shape[0], image_shape[1], 1))) # First convolution Layer\n",
    "    model.add(Activation('relu'))\n",
    "    model.add(MaxPooling2D(pool_size=(2, 2)))\n",
    "\n",
    "    model.add(Conv2D(32, (3, 3))) # Second Convolution Layer\n",
    "    model.add(Activation('relu'))\n",
    "    model.add(MaxPooling2D(pool_size=(2, 2)))\n",
    "\n",
    "    model.add(Conv2D(64, (3, 3)))\n",
    "    model.add(Activation('relu'))\n",
    "    model.add(MaxPooling2D(pool_size=(2, 2)))\n",
    "\n",
    "    model.add(Flatten())\n",
    "    model.add(Dense(256)) # FC layer with 256 neurons\n",
    "    model.add(Activation('relu'))\n",
    "    model.add(Dropout(0.5))\n",
    "\n",
    "    model.add(Dense(class_count)) # Result layer\n",
    "    model.add(Activation('softmax'))\n",
    "    \n",
    "    model.compile(loss='categorical_crossentropy', optimizer='rmsprop', metrics=['accuracy']) \n",
    "    \n",
    "    return model"
   ]
  },
  {
   "cell_type": "code",
   "execution_count": null,
   "metadata": {},
   "outputs": [],
   "source": [
    "def load_image(path, image_shape):\n",
    "    img = Image.open(path).convert('LA').resize(image_shape, Image.ANTIALIAS)\n",
    "    pixels = [f[0] for f in list(img.getdata())] # take first channel form each pixel\n",
    "    return pixels"
   ]
  },
  {
   "cell_type": "code",
   "execution_count": null,
   "metadata": {},
   "outputs": [],
   "source": [
    "def load_dataset(name, image_shape):\n",
    "    dataset = []\n",
    "    classes = []\n",
    "    buckets = [\n",
    "        './data/',\n",
    "    ]\n",
    "    for bucket in buckets:\n",
    "        path = bucket + name + '/'\n",
    "        if not os.path.isdir(path):\n",
    "            continue\n",
    "        for cls in os.listdir(path):\n",
    "            cls_path = os.path.join(path, cls)\n",
    "            if not os.path.isdir(cls_path):\n",
    "                continue\n",
    "            for item in glob(os.path.join(cls_path, '*.png')):\n",
    "                dataset.append(load_image(item, image_shape))\n",
    "                classes.append(cls)\n",
    "    return numpy.array(dataset), numpy.array(classes)"
   ]
  },
  {
   "cell_type": "code",
   "execution_count": null,
   "metadata": {},
   "outputs": [],
   "source": [
    "def train_model(name, image_shape):\n",
    "    dataset, classes = load_dataset(name, image_shape)\n",
    "    dataset_train, dataset_test, classes_train, classes_test \\\n",
    "        = train_test_split(dataset, classes, test_size=0.25, random_state=42)\n",
    "    dataset_train = dataset_train.reshape(dataset_train.shape[0], 32, 32, 1).astype('float32') / 255\n",
    "    dataset_test = dataset_test.reshape(dataset_test.shape[0], 32, 32, 1).astype('float32') / 255\n",
    "    \n",
    "    encoder = LabelBinarizer()\n",
    "    encoder.fit(classes)\n",
    "    classes_train = encoder.transform(classes_train)\n",
    "    classes_test = encoder.transform(classes_test)\n",
    "    \n",
    "    model = create_model(image_shape, len(encoder.classes_))\n",
    "    history = model.fit(\n",
    "        dataset_train, classes_train,\n",
    "        epochs=250, batch_size=128, callbacks=[],\n",
    "        validation_data=(dataset_test, classes_test))\n",
    "\n",
    "    return model, map(lambda x: str(x), encoder.classes_)"
   ]
  },
  {
   "cell_type": "code",
   "execution_count": null,
   "metadata": {},
   "outputs": [],
   "source": [
    "def convert_model(model, name, classes):\n",
    "    coreml_model = coremltools.converters.keras.convert(\n",
    "        model, # name + '.h5',\n",
    "        input_names='image',\n",
    "        image_input_names='image',\n",
    "        output_names='output',\n",
    "        class_labels=classes,\n",
    "        image_scale=1/255.)\n",
    "    coreml_model.save(\"./models/\" + name + '.mlmodel')"
   ]
  },
  {
   "cell_type": "code",
   "execution_count": null,
   "metadata": {},
   "outputs": [],
   "source": [
    "def build_model(name, output_name, image_shape):\n",
    "    model, classes = train_model(name, image_shape)\n",
    "    convert_model(model, output_name, classes)"
   ]
  },
  {
   "cell_type": "code",
   "execution_count": null,
   "metadata": {},
   "outputs": [],
   "source": [
    "build_model('hp', 'HpClassifier', (32, 32))"
   ]
  },
  {
   "cell_type": "code",
   "execution_count": null,
   "metadata": {},
   "outputs": [],
   "source": []
  }
 ],
 "metadata": {
  "kernelspec": {
   "display_name": "Python 2",
   "language": "python",
   "name": "python2"
  },
  "language_info": {
   "codemirror_mode": {
    "name": "ipython",
    "version": 2
   },
   "file_extension": ".py",
   "mimetype": "text/x-python",
   "name": "python",
   "nbconvert_exporter": "python",
   "pygments_lexer": "ipython2",
   "version": "2.7.16"
  }
 },
 "nbformat": 4,
 "nbformat_minor": 2
}
