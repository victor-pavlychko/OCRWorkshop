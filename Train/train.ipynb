{
 "cells": [
  {
   "cell_type": "code",
   "execution_count": 1,
   "metadata": {},
   "outputs": [
    {
     "name": "stdout",
     "output_type": "stream",
     "text": [
      "tf.estimator package not installed.\n",
      "tf.estimator package not installed.\n"
     ]
    }
   ],
   "source": [
    "import os\n",
    "from glob import glob\n",
    "from PIL import Image\n",
    "\n",
    "import numpy\n",
    "import coremltools\n",
    "\n",
    "import keras\n",
    "from keras.models import *\n",
    "from keras.layers import *\n",
    "from keras.callbacks import *\n",
    "\n",
    "from sklearn.preprocessing import OneHotEncoder\n",
    "from sklearn.preprocessing import LabelEncoder\n",
    "from sklearn.preprocessing import LabelBinarizer\n",
    "from sklearn.model_selection import train_test_split"
   ]
  },
  {
   "cell_type": "code",
   "execution_count": 2,
   "metadata": {},
   "outputs": [],
   "source": [
    "def create_model(image_shape, class_count):\n",
    "    model = Sequential()\n",
    "\n",
    "    model.add(Conv2D(32, (5, 5), input_shape=(image_shape[0], image_shape[1], 1))) # First convolution Layer\n",
    "    model.add(Activation('relu'))\n",
    "    model.add(MaxPooling2D(pool_size=(2, 2)))\n",
    "\n",
    "    model.add(Conv2D(32, (3, 3))) # Second Convolution Layer\n",
    "    model.add(Activation('relu'))\n",
    "    model.add(MaxPooling2D(pool_size=(2, 2)))\n",
    "\n",
    "    model.add(Conv2D(64, (3, 3)))\n",
    "    model.add(Activation('relu'))\n",
    "    model.add(MaxPooling2D(pool_size=(2, 2)))\n",
    "\n",
    "    model.add(Flatten())\n",
    "    model.add(Dense(256)) # FC layer with 256 neurons\n",
    "    model.add(Activation('relu'))\n",
    "    model.add(Dropout(0.5))\n",
    "\n",
    "    model.add(Dense(class_count)) # Result layer\n",
    "    model.add(Activation('softmax'))\n",
    "    \n",
    "    model.compile(loss='categorical_crossentropy', optimizer='rmsprop', metrics=['accuracy']) \n",
    "    \n",
    "    return model"
   ]
  },
  {
   "cell_type": "code",
   "execution_count": 3,
   "metadata": {},
   "outputs": [],
   "source": [
    "def load_image(path, image_shape):\n",
    "    img = Image.open(path).convert('LA').resize(image_shape, Image.ANTIALIAS)\n",
    "    pixels = [f[0] for f in list(img.getdata())] # take first channel form each pixel\n",
    "    return pixels"
   ]
  },
  {
   "cell_type": "code",
   "execution_count": 4,
   "metadata": {},
   "outputs": [],
   "source": [
    "def load_dataset(name, image_shape):\n",
    "    dataset = []\n",
    "    classes = []\n",
    "    buckets = [\n",
    "        './data/',\n",
    "    ]\n",
    "    for bucket in buckets:\n",
    "        path = bucket + name + '/'\n",
    "        if not os.path.isdir(path):\n",
    "            continue\n",
    "        for cls in os.listdir(path):\n",
    "            cls_path = os.path.join(path, cls)\n",
    "            if not os.path.isdir(cls_path):\n",
    "                continue\n",
    "            for item in glob(os.path.join(cls_path, '*.png')):\n",
    "                dataset.append(load_image(item, image_shape))\n",
    "                classes.append(cls)\n",
    "    return numpy.array(dataset), numpy.array(classes)"
   ]
  },
  {
   "cell_type": "code",
   "execution_count": 5,
   "metadata": {},
   "outputs": [],
   "source": [
    "def train_model(name, image_shape):\n",
    "    dataset, classes = load_dataset(name, image_shape)\n",
    "    dataset_train, dataset_test, classes_train, classes_test \\\n",
    "        = train_test_split(dataset, classes, test_size=0.25, random_state=42)\n",
    "    dataset_train = dataset_train.reshape(dataset_train.shape[0], 32, 32, 1).astype('float32') / 255\n",
    "    dataset_test = dataset_test.reshape(dataset_test.shape[0], 32, 32, 1).astype('float32') / 255\n",
    "    \n",
    "    encoder = LabelBinarizer()\n",
    "    encoder.fit(classes)\n",
    "    classes_train = encoder.transform(classes_train)\n",
    "    classes_test = encoder.transform(classes_test)\n",
    "    \n",
    "    model = create_model(image_shape, len(encoder.classes_))\n",
    "    history = model.fit(\n",
    "        dataset_train, classes_train,\n",
    "        epochs=25, batch_size=128, callbacks=[],\n",
    "        validation_data=(dataset_test, classes_test))\n",
    "\n",
    "    return model, map(lambda x: str(x), encoder.classes_)"
   ]
  },
  {
   "cell_type": "code",
   "execution_count": 6,
   "metadata": {},
   "outputs": [],
   "source": [
    "def convert_model(model, name, classes):\n",
    "    coreml_model = coremltools.converters.keras.convert(\n",
    "        model, # name + '.h5',\n",
    "        input_names='image',\n",
    "        image_input_names='image',\n",
    "        output_names='output',\n",
    "        class_labels=classes,\n",
    "        image_scale=1/255.)\n",
    "    coreml_model.save(\"./models/\" + name + '.mlmodel')"
   ]
  },
  {
   "cell_type": "code",
   "execution_count": 7,
   "metadata": {},
   "outputs": [],
   "source": [
    "def build_model(name, output_name, image_shape):\n",
    "    model, classes = train_model(name, image_shape)\n",
    "    convert_model(model, output_name, classes)"
   ]
  },
  {
   "cell_type": "code",
   "execution_count": 8,
   "metadata": {},
   "outputs": [
    {
     "name": "stdout",
     "output_type": "stream",
     "text": [
      "Train on 3489 samples, validate on 1164 samples\n",
      "Epoch 1/25\n",
      "3489/3489 [==============================] - 3s 750us/step - loss: 1.5589 - acc: 0.5277 - val_loss: 0.1805 - val_acc: 0.9966\n",
      "Epoch 2/25\n",
      "3489/3489 [==============================] - 3s 728us/step - loss: 0.1269 - acc: 0.9748 - val_loss: 0.0312 - val_acc: 0.9897\n",
      "Epoch 3/25\n",
      "3489/3489 [==============================] - 3s 739us/step - loss: 0.0357 - acc: 0.9900 - val_loss: 0.0412 - val_acc: 0.9845\n",
      "Epoch 4/25\n",
      "3489/3489 [==============================] - 3s 724us/step - loss: 0.0109 - acc: 0.9974 - val_loss: 0.0012 - val_acc: 1.0000\n",
      "Epoch 5/25\n",
      "3489/3489 [==============================] - 2s 674us/step - loss: 0.0151 - acc: 0.9957 - val_loss: 0.0014 - val_acc: 1.0000\n",
      "Epoch 6/25\n",
      "3489/3489 [==============================] - 3s 738us/step - loss: 0.0036 - acc: 0.9991 - val_loss: 4.2226e-04 - val_acc: 1.0000\n",
      "Epoch 7/25\n",
      "3489/3489 [==============================] - 2s 683us/step - loss: 0.0069 - acc: 0.9983 - val_loss: 8.4040e-04 - val_acc: 1.0000\n",
      "Epoch 8/25\n",
      "3489/3489 [==============================] - 2s 616us/step - loss: 0.0048 - acc: 0.9989 - val_loss: 1.2583e-04 - val_acc: 1.0000\n",
      "Epoch 9/25\n",
      "3489/3489 [==============================] - 2s 613us/step - loss: 8.8245e-04 - acc: 1.0000 - val_loss: 7.1293e-05 - val_acc: 1.0000\n",
      "Epoch 10/25\n",
      "3489/3489 [==============================] - 2s 609us/step - loss: 0.0056 - acc: 0.9983 - val_loss: 6.3846e-05 - val_acc: 1.0000\n",
      "Epoch 11/25\n",
      "3489/3489 [==============================] - 2s 597us/step - loss: 0.0023 - acc: 0.9994 - val_loss: 4.4140e-05 - val_acc: 1.0000\n",
      "Epoch 12/25\n",
      "3489/3489 [==============================] - 2s 629us/step - loss: 0.0012 - acc: 0.9997 - val_loss: 5.8958e-06 - val_acc: 1.0000\n",
      "Epoch 13/25\n",
      "3489/3489 [==============================] - 2s 618us/step - loss: 1.3651e-04 - acc: 1.0000 - val_loss: 2.3228e-06 - val_acc: 1.0000\n",
      "Epoch 14/25\n",
      "3489/3489 [==============================] - 2s 704us/step - loss: 0.0012 - acc: 0.9997 - val_loss: 1.5629e-06 - val_acc: 1.0000\n",
      "Epoch 15/25\n",
      "3489/3489 [==============================] - 3s 723us/step - loss: 7.6076e-04 - acc: 0.9997 - val_loss: 1.0615e-06 - val_acc: 1.0000\n",
      "Epoch 16/25\n",
      "3489/3489 [==============================] - 2s 663us/step - loss: 3.7829e-04 - acc: 0.9997 - val_loss: 1.4410e-06 - val_acc: 1.0000\n",
      "Epoch 17/25\n",
      "3489/3489 [==============================] - 2s 626us/step - loss: 3.5373e-05 - acc: 1.0000 - val_loss: 1.4109e-06 - val_acc: 1.0000\n",
      "Epoch 18/25\n",
      "3489/3489 [==============================] - 2s 589us/step - loss: 4.5469e-06 - acc: 1.0000 - val_loss: 1.6852e-07 - val_acc: 1.0000\n",
      "Epoch 19/25\n",
      "3489/3489 [==============================] - 2s 678us/step - loss: 0.0077 - acc: 0.9977 - val_loss: 2.5524e-05 - val_acc: 1.0000\n",
      "Epoch 20/25\n",
      "3489/3489 [==============================] - 3s 727us/step - loss: 9.7265e-05 - acc: 1.0000 - val_loss: 8.8832e-07 - val_acc: 1.0000\n",
      "Epoch 21/25\n",
      "3489/3489 [==============================] - 3s 835us/step - loss: 1.2356e-04 - acc: 1.0000 - val_loss: 9.9621e-05 - val_acc: 1.0000\n",
      "Epoch 22/25\n",
      "3489/3489 [==============================] - 2s 651us/step - loss: 1.0661e-05 - acc: 1.0000 - val_loss: 3.6450e-06 - val_acc: 1.0000\n",
      "Epoch 23/25\n",
      "3489/3489 [==============================] - 2s 646us/step - loss: 0.0017 - acc: 0.9997 - val_loss: 1.9719e-06 - val_acc: 1.0000\n",
      "Epoch 24/25\n",
      "3489/3489 [==============================] - 2s 714us/step - loss: 5.6564e-05 - acc: 1.0000 - val_loss: 1.2433e-07 - val_acc: 1.0000\n",
      "Epoch 25/25\n",
      "3489/3489 [==============================] - 2s 640us/step - loss: 1.7269e-05 - acc: 1.0000 - val_loss: 1.3114e-07 - val_acc: 1.0000\n",
      "0 : conv2d_1_input, <keras.engine.input_layer.InputLayer object at 0x133b22150>\n",
      "1 : conv2d_1, <keras.layers.convolutional.Conv2D object at 0x133b22090>\n",
      "2 : activation_1, <keras.layers.core.Activation object at 0x133b223d0>\n",
      "3 : max_pooling2d_1, <keras.layers.pooling.MaxPooling2D object at 0x133b22390>\n",
      "4 : conv2d_2, <keras.layers.convolutional.Conv2D object at 0x133b227d0>\n",
      "5 : activation_2, <keras.layers.core.Activation object at 0x133b22dd0>\n",
      "6 : max_pooling2d_2, <keras.layers.pooling.MaxPooling2D object at 0x133b22350>\n",
      "7 : conv2d_3, <keras.layers.convolutional.Conv2D object at 0x133b76190>\n",
      "8 : activation_3, <keras.layers.core.Activation object at 0x133b76210>\n",
      "9 : max_pooling2d_3, <keras.layers.pooling.MaxPooling2D object at 0x133b86510>\n",
      "10 : flatten_1, <keras.layers.core.Flatten object at 0x13967d210>\n",
      "11 : dense_1, <keras.layers.core.Dense object at 0x133b4fcd0>\n",
      "12 : activation_4, <keras.layers.core.Activation object at 0x133b22410>\n",
      "13 : dense_2, <keras.layers.core.Dense object at 0x133a4f3d0>\n",
      "14 : activation_5, <keras.layers.core.Activation object at 0x133b86f50>\n"
     ]
    }
   ],
   "source": [
    "build_model('hp', 'HpClassifier', (32, 32))"
   ]
  },
  {
   "cell_type": "code",
   "execution_count": null,
   "metadata": {},
   "outputs": [],
   "source": []
  }
 ],
 "metadata": {
  "kernelspec": {
   "display_name": "Python 2",
   "language": "python",
   "name": "python2"
  },
  "language_info": {
   "codemirror_mode": {
    "name": "ipython",
    "version": 2
   },
   "file_extension": ".py",
   "mimetype": "text/x-python",
   "name": "python",
   "nbconvert_exporter": "python",
   "pygments_lexer": "ipython2",
   "version": "2.7.16"
  }
 },
 "nbformat": 4,
 "nbformat_minor": 2
}
